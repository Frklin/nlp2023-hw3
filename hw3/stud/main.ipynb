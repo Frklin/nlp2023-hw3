{
 "cells": [
  {
   "cell_type": "markdown",
   "metadata": {},
   "source": [
    "# Relation Extraction"
   ]
  },
  {
   "cell_type": "markdown",
   "metadata": {},
   "source": [
    "### Dependecies"
   ]
  },
  {
   "cell_type": "code",
   "execution_count": 1,
   "metadata": {},
   "outputs": [],
   "source": [
    "import os\n",
    "import sys\n",
    "import numpy as np\n",
    "import torch\n",
    "from torch.utils.data import DataLoader\n",
    "from transformers import BertTokenizer\n",
    "from pytorch_lightning import Trainer\n",
    "\n",
    "sys.path.append(\"../\")\n",
    "import config\n",
    "from utils import *\n",
    "from load import *\n",
    "from UniRel import *\n"
   ]
  },
  {
   "cell_type": "code",
   "execution_count": 2,
   "metadata": {},
   "outputs": [],
   "source": [
    "seed_everything(config.SEED)"
   ]
  },
  {
   "cell_type": "markdown",
   "metadata": {},
   "source": [
    "### Load Data"
   ]
  },
  {
   "cell_type": "code",
   "execution_count": 3,
   "metadata": {},
   "outputs": [],
   "source": [
    "tokenizer = BertTokenizer.from_pretrained(config.PRETRAINED_MODEL)\n",
    "\n",
    "train_data = RelationDataset(config.TRAIN_PATH, tokenizer)\n",
    "dev_data = RelationDataset(config.DEV_PATH, tokenizer)\n",
    "test_data = RelationDataset(config.TEST_PATH, tokenizer)\n",
    "\n",
    "train_loader = DataLoader(train_data, batch_size=config.BATCH_SIZE, shuffle=True)\n",
    "dev_loader = DataLoader(dev_data, batch_size=config.BATCH_SIZE, shuffle=False)\n",
    "test_loader = DataLoader(test_data, batch_size=config.BATCH_SIZE, shuffle=False)"
   ]
  },
  {
   "cell_type": "code",
   "execution_count": null,
   "metadata": {},
   "outputs": [],
   "source": [
    "model = UniRE()"
   ]
  },
  {
   "cell_type": "code",
   "execution_count": null,
   "metadata": {},
   "outputs": [],
   "source": [
    "trainer = Trainer(model, train_loader, dev_loader, test_loader)\n",
    "trainer.train(config.EPOCHS)"
   ]
  }
 ],
 "metadata": {
  "kernelspec": {
   "display_name": "nlp2023-hw3",
   "language": "python",
   "name": "python3"
  },
  "language_info": {
   "codemirror_mode": {
    "name": "ipython",
    "version": 3
   },
   "file_extension": ".py",
   "mimetype": "text/x-python",
   "name": "python",
   "nbconvert_exporter": "python",
   "pygments_lexer": "ipython3",
   "version": "3.9.17"
  }
 },
 "nbformat": 4,
 "nbformat_minor": 2
}
