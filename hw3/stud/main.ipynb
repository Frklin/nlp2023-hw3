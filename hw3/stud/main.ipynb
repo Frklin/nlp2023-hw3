{
 "cells": [
  {
   "cell_type": "markdown",
   "metadata": {},
   "source": [
    "# Relation Extraction"
   ]
  },
  {
   "cell_type": "markdown",
   "metadata": {},
   "source": [
    "### Dependecies"
   ]
  },
  {
   "cell_type": "code",
   "execution_count": 1,
   "metadata": {},
   "outputs": [],
   "source": [
    "import os\n",
    "import sys\n",
    "import numpy as np\n",
    "import torch\n",
    "from torch.utils.data import DataLoader\n",
    "from transformers import BertTokenizer, AutoTokenizer\n",
    "from pytorch_lightning import Trainer\n",
    "\n",
    "sys.path.append(\"../\")\n",
    "import config\n",
    "from utils import *\n",
    "from load import *\n",
    "from UniRel import *\n"
   ]
  },
  {
   "cell_type": "code",
   "execution_count": 2,
   "metadata": {},
   "outputs": [],
   "source": [
    "seed_everything(config.SEED)"
   ]
  },
  {
   "cell_type": "markdown",
   "metadata": {},
   "source": [
    "### Load Data"
   ]
  },
  {
   "cell_type": "code",
   "execution_count": 3,
   "metadata": {},
   "outputs": [],
   "source": [
    "tokenizer = AutoTokenizer.from_pretrained(config.PRETRAINED_MODEL)\n",
    "\n",
    "train_data = RelationDataset(config.TRAIN_PATH, tokenizer)\n",
    "dev_data = RelationDataset(config.DEV_PATH, tokenizer)\n",
    "test_data = RelationDataset(config.TEST_PATH, tokenizer)\n",
    "\n",
    "train_loader = DataLoader(train_data, batch_size=config.BATCH_SIZE, shuffle=True, collate_fn=collate_fn)\n",
    "dev_loader = DataLoader(dev_data, batch_size=config.BATCH_SIZE, shuffle=False, collate_fn=collate_fn)\n",
    "test_loader = DataLoader(test_data, batch_size=config.BATCH_SIZE, shuffle=False, collate_fn=collate_fn)"
   ]
  },
  {
   "cell_type": "code",
   "execution_count": 4,
   "metadata": {},
   "outputs": [
    {
     "name": "stderr",
     "output_type": "stream",
     "text": [
      "Some weights of the model checkpoint at bert-base-uncased were not used when initializing BertModel: ['cls.predictions.transform.LayerNorm.weight', 'cls.predictions.transform.dense.weight', 'cls.seq_relationship.bias', 'cls.predictions.bias', 'cls.seq_relationship.weight', 'cls.predictions.transform.LayerNorm.bias', 'cls.predictions.decoder.weight', 'cls.predictions.transform.dense.bias']\n",
      "- This IS expected if you are initializing BertModel from the checkpoint of a model trained on another task or with another architecture (e.g. initializing a BertForSequenceClassification model from a BertForPreTraining model).\n",
      "- This IS NOT expected if you are initializing BertModel from the checkpoint of a model that you expect to be exactly identical (initializing a BertForSequenceClassification model from a BertForSequenceClassification model).\n"
     ]
    }
   ],
   "source": [
    "from transformers import BertConfig\n",
    "bert_config = BertConfig.from_pretrained(config.PRETRAINED_MODEL,\n",
    "                                        finetuning_task=\"UniRel\")\n",
    "bert_config.num_rels = config.REL_NUM\n",
    "\n",
    "model = UniRE(bert_config=bert_config)"
   ]
  },
  {
   "cell_type": "code",
   "execution_count": 5,
   "metadata": {},
   "outputs": [
    {
     "name": "stderr",
     "output_type": "stream",
     "text": [
      "GPU available: True, used: False\n",
      "TPU available: False, using: 0 TPU cores\n",
      "IPU available: False, using: 0 IPUs\n"
     ]
    },
    {
     "name": "stderr",
     "output_type": "stream",
     "text": [
      "/home/francesco/miniconda3/envs/nlp2023-hw2/lib/python3.9/site-packages/pytorch_lightning/trainer/trainer.py:1566: UserWarning: GPU available but not used. Set the gpus flag in your trainer `Trainer(gpus=1)` or script `--gpus=1`.\n",
      "  rank_zero_warn(\n",
      "\n",
      "  | Name    | Type      | Params\n",
      "--------------------------------------\n",
      "0 | bert    | BertModel | 109 M \n",
      "1 | sigmoid | Sigmoid   | 0     \n",
      "2 | loss    | BCELoss   | 0     \n",
      "--------------------------------------\n",
      "109 M     Trainable params\n",
      "0         Non-trainable params\n",
      "109 M     Total params\n",
      "437.929   Total estimated model params size (MB)\n"
     ]
    },
    {
     "name": "stdout",
     "output_type": "stream",
     "text": [
      "Validation sanity check:   0%|          | 0/2 [00:00<?, ?it/s]"
     ]
    },
    {
     "name": "stderr",
     "output_type": "stream",
     "text": [
      "/home/francesco/miniconda3/envs/nlp2023-hw2/lib/python3.9/site-packages/pytorch_lightning/trainer/data_loading.py:110: UserWarning: The dataloader, val_dataloader 0, does not have many workers which may be a bottleneck. Consider increasing the value of the `num_workers` argument` (try 8 which is the number of cpus on this machine) in the `DataLoader` init to improve performance.\n",
      "  rank_zero_warn(\n",
      "/home/francesco/miniconda3/envs/nlp2023-hw2/lib/python3.9/site-packages/pytorch_lightning/trainer/trainer.py:682: UserWarning: Detected KeyboardInterrupt, attempting graceful shutdown...\n",
      "  return trainer_fn(*args, **kwargs)\n"
     ]
    }
   ],
   "source": [
    "from pytorch_lightning.callbacks import ModelCheckpoint\n",
    "\n",
    "trainer = Trainer(gpus=0, max_epochs=10, callbacks=[ModelCheckpoint(monitor='val_loss')])#, logger=wandb_logger)\n",
    "trainer.fit(model, train_loader, dev_loader)"
   ]
  },
  {
   "cell_type": "code",
   "execution_count": null,
   "metadata": {},
   "outputs": [],
   "source": [
    "pred2text = {}\n",
    "for k in config.relation2Id.keys():\n",
    "    pred2text[k] = k.split(\"/\")[-1]\n",
    "\n",
    "pred_str = \" \".join([rel_abr for rel_abr in pred2text.values()])\n",
    "\n"
   ]
  },
  {
   "cell_type": "code",
   "execution_count": null,
   "metadata": {},
   "outputs": [
    {
     "name": "stdout",
     "output_type": "stream",
     "text": [
      "{'no_relation': 'no_relation', '/business/company/founders': 'founders', '/people/person/place_of_birth': 'place_of_birth', '/people/deceased_person/place_of_death': 'place_of_death', '/business/company_shareholder/major_shareholder_of': 'major_shareholder_of', '/people/ethnicity/people': 'people', '/location/neighborhood/neighborhood_of': 'neighborhood_of', '/sports/sports_team/location': 'location', '/business/person/company': 'company', '/business/company/industry': 'industry', '/business/company/place_founded': 'place_founded', '/location/administrative_division/country': 'country', '/sports/sports_team_location/teams': 'teams', '/people/person/nationality': 'nationality', '/people/person/religion': 'religion', '/business/company/advisors': 'advisors', '/people/person/ethnicity': 'ethnicity', '/people/ethnicity/geographic_distribution': 'geographic_distribution', '/people/person/place_lived': 'place_lived', '/business/company/major_shareholders': 'major_shareholders', '/people/person/profession': 'profession', '/location/country/capital': 'capital', '/location/location/contains': 'contains', '/location/country/administrative_divisions': 'administrative_divisions', '/people/person/children': 'children'}\n",
      "{'no_relation': 0, '/business/company/founders': 1, '/people/person/place_of_birth': 2, '/people/deceased_person/place_of_death': 3, '/business/company_shareholder/major_shareholder_of': 4, '/people/ethnicity/people': 5, '/location/neighborhood/neighborhood_of': 6, '/sports/sports_team/location': 7, '/business/person/company': 8, '/business/company/industry': 9, '/business/company/place_founded': 10, '/location/administrative_division/country': 11, '/sports/sports_team_location/teams': 12, '/people/person/nationality': 13, '/people/person/religion': 14, '/business/company/advisors': 15, '/people/person/ethnicity': 16, '/people/ethnicity/geographic_distribution': 17, '/people/person/place_lived': 18, '/business/company/major_shareholders': 19, '/people/person/profession': 20, '/location/country/capital': 21, '/location/location/contains': 22, '/location/country/administrative_divisions': 23, '/people/person/children': 24}\n",
      "no_relation founders place_of_birth place_of_death major_shareholder_of people neighborhood_of location company industry place_founded country teams nationality religion advisors ethnicity geographic_distribution place_lived major_shareholders profession capital contains administrative_divisions children\n"
     ]
    }
   ],
   "source": [
    "pred2text = {pred: pred.split(\"/\")[-1] for pred in config.relation2Id.keys()}\n",
    "print(pred2text)\n",
    "pred2idx = {}\n",
    "idx = 0\n",
    "pred_str = \"\"\n",
    "for k in pred2text:\n",
    "    pred2idx[k] = idx\n",
    "    pred_str += pred2text[k] + \" \"\n",
    "    idx += 1\n",
    "pred_str = pred_str[:-1]\n",
    "print(pred2idx)\n",
    "print(pred_str)"
   ]
  }
 ],
 "metadata": {
  "kernelspec": {
   "display_name": "nlp2023-hw3",
   "language": "python",
   "name": "python3"
  },
  "language_info": {
   "codemirror_mode": {
    "name": "ipython",
    "version": 3
   },
   "file_extension": ".py",
   "mimetype": "text/x-python",
   "name": "python",
   "nbconvert_exporter": "python",
   "pygments_lexer": "ipython3",
   "version": "3.9.17"
  }
 },
 "nbformat": 4,
 "nbformat_minor": 2
}
